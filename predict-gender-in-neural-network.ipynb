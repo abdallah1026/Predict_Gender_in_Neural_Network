{
 "cells": [
  {
   "cell_type": "code",
   "execution_count": 1,
   "id": "d955c1fd",
   "metadata": {
    "execution": {
     "iopub.execute_input": "2024-06-21T16:40:36.163224Z",
     "iopub.status.busy": "2024-06-21T16:40:36.162433Z",
     "iopub.status.idle": "2024-06-21T16:40:39.437173Z",
     "shell.execute_reply": "2024-06-21T16:40:39.435838Z"
    },
    "papermill": {
     "duration": 3.287144,
     "end_time": "2024-06-21T16:40:39.440303",
     "exception": false,
     "start_time": "2024-06-21T16:40:36.153159",
     "status": "completed"
    },
    "tags": []
   },
   "outputs": [],
   "source": [
    "import numpy as np # For Linear Alegbra\n",
    "import pandas as pd #For Display Data\n",
    "import matplotlib.pyplot as plt # For Visualization\n",
    "from sklearn.model_selection import train_test_split  # For Split Data\n",
    "from sklearn.impute import SimpleImputer # For clean Data\n",
    "from sklearn.preprocessing import LabelEncoder # To convert categorical value to numerical value\n",
    "from sklearn.metrics import confusion_matrix  # For Evaluate\n",
    "import seaborn as sns # For Visualtization"
   ]
  },
  {
   "cell_type": "code",
   "execution_count": 2,
   "id": "3e5f3ba8",
   "metadata": {
    "execution": {
     "iopub.execute_input": "2024-06-21T16:40:39.456946Z",
     "iopub.status.busy": "2024-06-21T16:40:39.456369Z",
     "iopub.status.idle": "2024-06-21T16:40:39.491435Z",
     "shell.execute_reply": "2024-06-21T16:40:39.490113Z"
    },
    "papermill": {
     "duration": 0.046592,
     "end_time": "2024-06-21T16:40:39.494232",
     "exception": false,
     "start_time": "2024-06-21T16:40:39.447640",
     "status": "completed"
    },
    "tags": []
   },
   "outputs": [],
   "source": [
    "# Read Data\n",
    "\n",
    "df = pd.read_csv('/kaggle/input/gender-classification/gender_classification_v7.csv')"
   ]
  },
  {
   "cell_type": "code",
   "execution_count": 3,
   "id": "b3997d88",
   "metadata": {
    "execution": {
     "iopub.execute_input": "2024-06-21T16:40:39.510114Z",
     "iopub.status.busy": "2024-06-21T16:40:39.509666Z",
     "iopub.status.idle": "2024-06-21T16:40:39.546061Z",
     "shell.execute_reply": "2024-06-21T16:40:39.544824Z"
    },
    "papermill": {
     "duration": 0.047416,
     "end_time": "2024-06-21T16:40:39.548669",
     "exception": false,
     "start_time": "2024-06-21T16:40:39.501253",
     "status": "completed"
    },
    "tags": []
   },
   "outputs": [
    {
     "data": {
      "text/html": [
       "<div>\n",
       "<style scoped>\n",
       "    .dataframe tbody tr th:only-of-type {\n",
       "        vertical-align: middle;\n",
       "    }\n",
       "\n",
       "    .dataframe tbody tr th {\n",
       "        vertical-align: top;\n",
       "    }\n",
       "\n",
       "    .dataframe thead th {\n",
       "        text-align: right;\n",
       "    }\n",
       "</style>\n",
       "<table border=\"1\" class=\"dataframe\">\n",
       "  <thead>\n",
       "    <tr style=\"text-align: right;\">\n",
       "      <th></th>\n",
       "      <th>long_hair</th>\n",
       "      <th>forehead_width_cm</th>\n",
       "      <th>forehead_height_cm</th>\n",
       "      <th>nose_wide</th>\n",
       "      <th>nose_long</th>\n",
       "      <th>lips_thin</th>\n",
       "      <th>distance_nose_to_lip_long</th>\n",
       "      <th>gender</th>\n",
       "    </tr>\n",
       "  </thead>\n",
       "  <tbody>\n",
       "    <tr>\n",
       "      <th>0</th>\n",
       "      <td>1</td>\n",
       "      <td>11.8</td>\n",
       "      <td>6.1</td>\n",
       "      <td>1</td>\n",
       "      <td>0</td>\n",
       "      <td>1</td>\n",
       "      <td>1</td>\n",
       "      <td>Male</td>\n",
       "    </tr>\n",
       "    <tr>\n",
       "      <th>1</th>\n",
       "      <td>0</td>\n",
       "      <td>14.0</td>\n",
       "      <td>5.4</td>\n",
       "      <td>0</td>\n",
       "      <td>0</td>\n",
       "      <td>1</td>\n",
       "      <td>0</td>\n",
       "      <td>Female</td>\n",
       "    </tr>\n",
       "    <tr>\n",
       "      <th>2</th>\n",
       "      <td>0</td>\n",
       "      <td>11.8</td>\n",
       "      <td>6.3</td>\n",
       "      <td>1</td>\n",
       "      <td>1</td>\n",
       "      <td>1</td>\n",
       "      <td>1</td>\n",
       "      <td>Male</td>\n",
       "    </tr>\n",
       "    <tr>\n",
       "      <th>3</th>\n",
       "      <td>0</td>\n",
       "      <td>14.4</td>\n",
       "      <td>6.1</td>\n",
       "      <td>0</td>\n",
       "      <td>1</td>\n",
       "      <td>1</td>\n",
       "      <td>1</td>\n",
       "      <td>Male</td>\n",
       "    </tr>\n",
       "    <tr>\n",
       "      <th>4</th>\n",
       "      <td>1</td>\n",
       "      <td>13.5</td>\n",
       "      <td>5.9</td>\n",
       "      <td>0</td>\n",
       "      <td>0</td>\n",
       "      <td>0</td>\n",
       "      <td>0</td>\n",
       "      <td>Female</td>\n",
       "    </tr>\n",
       "    <tr>\n",
       "      <th>...</th>\n",
       "      <td>...</td>\n",
       "      <td>...</td>\n",
       "      <td>...</td>\n",
       "      <td>...</td>\n",
       "      <td>...</td>\n",
       "      <td>...</td>\n",
       "      <td>...</td>\n",
       "      <td>...</td>\n",
       "    </tr>\n",
       "    <tr>\n",
       "      <th>4996</th>\n",
       "      <td>1</td>\n",
       "      <td>13.6</td>\n",
       "      <td>5.1</td>\n",
       "      <td>0</td>\n",
       "      <td>0</td>\n",
       "      <td>0</td>\n",
       "      <td>0</td>\n",
       "      <td>Female</td>\n",
       "    </tr>\n",
       "    <tr>\n",
       "      <th>4997</th>\n",
       "      <td>1</td>\n",
       "      <td>11.9</td>\n",
       "      <td>5.4</td>\n",
       "      <td>0</td>\n",
       "      <td>0</td>\n",
       "      <td>0</td>\n",
       "      <td>0</td>\n",
       "      <td>Female</td>\n",
       "    </tr>\n",
       "    <tr>\n",
       "      <th>4998</th>\n",
       "      <td>1</td>\n",
       "      <td>12.9</td>\n",
       "      <td>5.7</td>\n",
       "      <td>0</td>\n",
       "      <td>0</td>\n",
       "      <td>0</td>\n",
       "      <td>0</td>\n",
       "      <td>Female</td>\n",
       "    </tr>\n",
       "    <tr>\n",
       "      <th>4999</th>\n",
       "      <td>1</td>\n",
       "      <td>13.2</td>\n",
       "      <td>6.2</td>\n",
       "      <td>0</td>\n",
       "      <td>0</td>\n",
       "      <td>0</td>\n",
       "      <td>0</td>\n",
       "      <td>Female</td>\n",
       "    </tr>\n",
       "    <tr>\n",
       "      <th>5000</th>\n",
       "      <td>1</td>\n",
       "      <td>15.4</td>\n",
       "      <td>5.4</td>\n",
       "      <td>1</td>\n",
       "      <td>1</td>\n",
       "      <td>1</td>\n",
       "      <td>1</td>\n",
       "      <td>Male</td>\n",
       "    </tr>\n",
       "  </tbody>\n",
       "</table>\n",
       "<p>5001 rows × 8 columns</p>\n",
       "</div>"
      ],
      "text/plain": [
       "      long_hair  forehead_width_cm  forehead_height_cm  nose_wide  nose_long  \\\n",
       "0             1               11.8                 6.1          1          0   \n",
       "1             0               14.0                 5.4          0          0   \n",
       "2             0               11.8                 6.3          1          1   \n",
       "3             0               14.4                 6.1          0          1   \n",
       "4             1               13.5                 5.9          0          0   \n",
       "...         ...                ...                 ...        ...        ...   \n",
       "4996          1               13.6                 5.1          0          0   \n",
       "4997          1               11.9                 5.4          0          0   \n",
       "4998          1               12.9                 5.7          0          0   \n",
       "4999          1               13.2                 6.2          0          0   \n",
       "5000          1               15.4                 5.4          1          1   \n",
       "\n",
       "      lips_thin  distance_nose_to_lip_long  gender  \n",
       "0             1                          1    Male  \n",
       "1             1                          0  Female  \n",
       "2             1                          1    Male  \n",
       "3             1                          1    Male  \n",
       "4             0                          0  Female  \n",
       "...         ...                        ...     ...  \n",
       "4996          0                          0  Female  \n",
       "4997          0                          0  Female  \n",
       "4998          0                          0  Female  \n",
       "4999          0                          0  Female  \n",
       "5000          1                          1    Male  \n",
       "\n",
       "[5001 rows x 8 columns]"
      ]
     },
     "execution_count": 3,
     "metadata": {},
     "output_type": "execute_result"
    }
   ],
   "source": [
    "# Display Data\n",
    "\n",
    "df"
   ]
  },
  {
   "cell_type": "code",
   "execution_count": 4,
   "id": "ad056f2b",
   "metadata": {
    "execution": {
     "iopub.execute_input": "2024-06-21T16:40:39.565186Z",
     "iopub.status.busy": "2024-06-21T16:40:39.564749Z",
     "iopub.status.idle": "2024-06-21T16:40:39.590425Z",
     "shell.execute_reply": "2024-06-21T16:40:39.589144Z"
    },
    "papermill": {
     "duration": 0.037312,
     "end_time": "2024-06-21T16:40:39.593390",
     "exception": false,
     "start_time": "2024-06-21T16:40:39.556078",
     "status": "completed"
    },
    "tags": []
   },
   "outputs": [
    {
     "name": "stdout",
     "output_type": "stream",
     "text": [
      "<class 'pandas.core.frame.DataFrame'>\n",
      "RangeIndex: 5001 entries, 0 to 5000\n",
      "Data columns (total 8 columns):\n",
      " #   Column                     Non-Null Count  Dtype  \n",
      "---  ------                     --------------  -----  \n",
      " 0   long_hair                  5001 non-null   int64  \n",
      " 1   forehead_width_cm          5001 non-null   float64\n",
      " 2   forehead_height_cm         5001 non-null   float64\n",
      " 3   nose_wide                  5001 non-null   int64  \n",
      " 4   nose_long                  5001 non-null   int64  \n",
      " 5   lips_thin                  5001 non-null   int64  \n",
      " 6   distance_nose_to_lip_long  5001 non-null   int64  \n",
      " 7   gender                     5001 non-null   object \n",
      "dtypes: float64(2), int64(5), object(1)\n",
      "memory usage: 312.7+ KB\n"
     ]
    }
   ],
   "source": [
    "# Check Data\n",
    "\n",
    "df.info()"
   ]
  },
  {
   "cell_type": "code",
   "execution_count": 5,
   "id": "6aa206d3",
   "metadata": {
    "execution": {
     "iopub.execute_input": "2024-06-21T16:40:39.610137Z",
     "iopub.status.busy": "2024-06-21T16:40:39.609689Z",
     "iopub.status.idle": "2024-06-21T16:40:39.617655Z",
     "shell.execute_reply": "2024-06-21T16:40:39.616483Z"
    },
    "papermill": {
     "duration": 0.019235,
     "end_time": "2024-06-21T16:40:39.620127",
     "exception": false,
     "start_time": "2024-06-21T16:40:39.600892",
     "status": "completed"
    },
    "tags": []
   },
   "outputs": [],
   "source": [
    "# we user LabelEncoder from sklearn.preprosscing to convert categrical values to numerical values\n",
    "\n",
    "le = LabelEncoder()\n",
    "\n",
    "df['gender'] = le.fit_transform(df['gender'])"
   ]
  },
  {
   "cell_type": "code",
   "execution_count": 6,
   "id": "78a2363b",
   "metadata": {
    "execution": {
     "iopub.execute_input": "2024-06-21T16:40:39.637089Z",
     "iopub.status.busy": "2024-06-21T16:40:39.636636Z",
     "iopub.status.idle": "2024-06-21T16:40:39.657963Z",
     "shell.execute_reply": "2024-06-21T16:40:39.656521Z"
    },
    "papermill": {
     "duration": 0.0332,
     "end_time": "2024-06-21T16:40:39.660851",
     "exception": false,
     "start_time": "2024-06-21T16:40:39.627651",
     "status": "completed"
    },
    "tags": []
   },
   "outputs": [
    {
     "data": {
      "text/html": [
       "<div>\n",
       "<style scoped>\n",
       "    .dataframe tbody tr th:only-of-type {\n",
       "        vertical-align: middle;\n",
       "    }\n",
       "\n",
       "    .dataframe tbody tr th {\n",
       "        vertical-align: top;\n",
       "    }\n",
       "\n",
       "    .dataframe thead th {\n",
       "        text-align: right;\n",
       "    }\n",
       "</style>\n",
       "<table border=\"1\" class=\"dataframe\">\n",
       "  <thead>\n",
       "    <tr style=\"text-align: right;\">\n",
       "      <th></th>\n",
       "      <th>long_hair</th>\n",
       "      <th>forehead_width_cm</th>\n",
       "      <th>forehead_height_cm</th>\n",
       "      <th>nose_wide</th>\n",
       "      <th>nose_long</th>\n",
       "      <th>lips_thin</th>\n",
       "      <th>distance_nose_to_lip_long</th>\n",
       "      <th>gender</th>\n",
       "    </tr>\n",
       "  </thead>\n",
       "  <tbody>\n",
       "    <tr>\n",
       "      <th>long_hair</th>\n",
       "      <td>1.000000</td>\n",
       "      <td>-0.006530</td>\n",
       "      <td>-0.017233</td>\n",
       "      <td>0.001216</td>\n",
       "      <td>0.014432</td>\n",
       "      <td>0.011287</td>\n",
       "      <td>-0.025794</td>\n",
       "      <td>-0.010767</td>\n",
       "    </tr>\n",
       "    <tr>\n",
       "      <th>forehead_width_cm</th>\n",
       "      <td>-0.006530</td>\n",
       "      <td>1.000000</td>\n",
       "      <td>0.088596</td>\n",
       "      <td>0.251648</td>\n",
       "      <td>0.257368</td>\n",
       "      <td>0.258564</td>\n",
       "      <td>0.251328</td>\n",
       "      <td>0.334125</td>\n",
       "    </tr>\n",
       "    <tr>\n",
       "      <th>forehead_height_cm</th>\n",
       "      <td>-0.017233</td>\n",
       "      <td>0.088596</td>\n",
       "      <td>1.000000</td>\n",
       "      <td>0.211655</td>\n",
       "      <td>0.194120</td>\n",
       "      <td>0.205441</td>\n",
       "      <td>0.215292</td>\n",
       "      <td>0.277190</td>\n",
       "    </tr>\n",
       "    <tr>\n",
       "      <th>nose_wide</th>\n",
       "      <td>0.001216</td>\n",
       "      <td>0.251648</td>\n",
       "      <td>0.211655</td>\n",
       "      <td>1.000000</td>\n",
       "      <td>0.565192</td>\n",
       "      <td>0.557615</td>\n",
       "      <td>0.569303</td>\n",
       "      <td>0.758502</td>\n",
       "    </tr>\n",
       "    <tr>\n",
       "      <th>nose_long</th>\n",
       "      <td>0.014432</td>\n",
       "      <td>0.257368</td>\n",
       "      <td>0.194120</td>\n",
       "      <td>0.565192</td>\n",
       "      <td>1.000000</td>\n",
       "      <td>0.561229</td>\n",
       "      <td>0.559794</td>\n",
       "      <td>0.744147</td>\n",
       "    </tr>\n",
       "    <tr>\n",
       "      <th>lips_thin</th>\n",
       "      <td>0.011287</td>\n",
       "      <td>0.258564</td>\n",
       "      <td>0.205441</td>\n",
       "      <td>0.557615</td>\n",
       "      <td>0.561229</td>\n",
       "      <td>1.000000</td>\n",
       "      <td>0.565312</td>\n",
       "      <td>0.743319</td>\n",
       "    </tr>\n",
       "    <tr>\n",
       "      <th>distance_nose_to_lip_long</th>\n",
       "      <td>-0.025794</td>\n",
       "      <td>0.251328</td>\n",
       "      <td>0.215292</td>\n",
       "      <td>0.569303</td>\n",
       "      <td>0.559794</td>\n",
       "      <td>0.565312</td>\n",
       "      <td>1.000000</td>\n",
       "      <td>0.754850</td>\n",
       "    </tr>\n",
       "    <tr>\n",
       "      <th>gender</th>\n",
       "      <td>-0.010767</td>\n",
       "      <td>0.334125</td>\n",
       "      <td>0.277190</td>\n",
       "      <td>0.758502</td>\n",
       "      <td>0.744147</td>\n",
       "      <td>0.743319</td>\n",
       "      <td>0.754850</td>\n",
       "      <td>1.000000</td>\n",
       "    </tr>\n",
       "  </tbody>\n",
       "</table>\n",
       "</div>"
      ],
      "text/plain": [
       "                           long_hair  forehead_width_cm  forehead_height_cm  \\\n",
       "long_hair                   1.000000          -0.006530           -0.017233   \n",
       "forehead_width_cm          -0.006530           1.000000            0.088596   \n",
       "forehead_height_cm         -0.017233           0.088596            1.000000   \n",
       "nose_wide                   0.001216           0.251648            0.211655   \n",
       "nose_long                   0.014432           0.257368            0.194120   \n",
       "lips_thin                   0.011287           0.258564            0.205441   \n",
       "distance_nose_to_lip_long  -0.025794           0.251328            0.215292   \n",
       "gender                     -0.010767           0.334125            0.277190   \n",
       "\n",
       "                           nose_wide  nose_long  lips_thin  \\\n",
       "long_hair                   0.001216   0.014432   0.011287   \n",
       "forehead_width_cm           0.251648   0.257368   0.258564   \n",
       "forehead_height_cm          0.211655   0.194120   0.205441   \n",
       "nose_wide                   1.000000   0.565192   0.557615   \n",
       "nose_long                   0.565192   1.000000   0.561229   \n",
       "lips_thin                   0.557615   0.561229   1.000000   \n",
       "distance_nose_to_lip_long   0.569303   0.559794   0.565312   \n",
       "gender                      0.758502   0.744147   0.743319   \n",
       "\n",
       "                           distance_nose_to_lip_long    gender  \n",
       "long_hair                                  -0.025794 -0.010767  \n",
       "forehead_width_cm                           0.251328  0.334125  \n",
       "forehead_height_cm                          0.215292  0.277190  \n",
       "nose_wide                                   0.569303  0.758502  \n",
       "nose_long                                   0.559794  0.744147  \n",
       "lips_thin                                   0.565312  0.743319  \n",
       "distance_nose_to_lip_long                   1.000000  0.754850  \n",
       "gender                                      0.754850  1.000000  "
      ]
     },
     "execution_count": 6,
     "metadata": {},
     "output_type": "execute_result"
    }
   ],
   "source": [
    "# Check correlation to know most important features \n",
    "\n",
    "cor = df.corr()\n",
    "cor"
   ]
  },
  {
   "cell_type": "code",
   "execution_count": 7,
   "id": "8c7ffc3d",
   "metadata": {
    "execution": {
     "iopub.execute_input": "2024-06-21T16:40:39.679969Z",
     "iopub.status.busy": "2024-06-21T16:40:39.678685Z",
     "iopub.status.idle": "2024-06-21T16:40:39.686115Z",
     "shell.execute_reply": "2024-06-21T16:40:39.684980Z"
    },
    "papermill": {
     "duration": 0.019767,
     "end_time": "2024-06-21T16:40:39.688797",
     "exception": false,
     "start_time": "2024-06-21T16:40:39.669030",
     "status": "completed"
    },
    "tags": []
   },
   "outputs": [],
   "source": [
    "x = df.drop('gender', axis=1, inplace=False)\n",
    "y= df['gender']"
   ]
  },
  {
   "cell_type": "code",
   "execution_count": 8,
   "id": "265a96a9",
   "metadata": {
    "execution": {
     "iopub.execute_input": "2024-06-21T16:40:39.706547Z",
     "iopub.status.busy": "2024-06-21T16:40:39.706156Z",
     "iopub.status.idle": "2024-06-21T16:40:39.717064Z",
     "shell.execute_reply": "2024-06-21T16:40:39.715826Z"
    },
    "papermill": {
     "duration": 0.023296,
     "end_time": "2024-06-21T16:40:39.720081",
     "exception": false,
     "start_time": "2024-06-21T16:40:39.696785",
     "status": "completed"
    },
    "tags": []
   },
   "outputs": [],
   "source": [
    "x_train, x_test, y_train, y_test = train_test_split(x,y,test_size=0.2, random_state=42)"
   ]
  },
  {
   "cell_type": "code",
   "execution_count": 9,
   "id": "535dfbe6",
   "metadata": {
    "execution": {
     "iopub.execute_input": "2024-06-21T16:40:39.737905Z",
     "iopub.status.busy": "2024-06-21T16:40:39.737458Z",
     "iopub.status.idle": "2024-06-21T16:40:55.155564Z",
     "shell.execute_reply": "2024-06-21T16:40:55.154163Z"
    },
    "papermill": {
     "duration": 15.430808,
     "end_time": "2024-06-21T16:40:55.159020",
     "exception": false,
     "start_time": "2024-06-21T16:40:39.728212",
     "status": "completed"
    },
    "tags": []
   },
   "outputs": [
    {
     "name": "stderr",
     "output_type": "stream",
     "text": [
      "2024-06-21 16:40:42.249909: E external/local_xla/xla/stream_executor/cuda/cuda_dnn.cc:9261] Unable to register cuDNN factory: Attempting to register factory for plugin cuDNN when one has already been registered\n",
      "2024-06-21 16:40:42.250064: E external/local_xla/xla/stream_executor/cuda/cuda_fft.cc:607] Unable to register cuFFT factory: Attempting to register factory for plugin cuFFT when one has already been registered\n",
      "2024-06-21 16:40:42.437657: E external/local_xla/xla/stream_executor/cuda/cuda_blas.cc:1515] Unable to register cuBLAS factory: Attempting to register factory for plugin cuBLAS when one has already been registered\n"
     ]
    }
   ],
   "source": [
    "import tensorflow as tf\n",
    "import keras\n",
    "\n",
    "kerasModel = keras.models.Sequential([\n",
    "    keras.layers.Input(shape=(7,)),\n",
    "    keras.layers.Dense(8, activation='tanh'),\n",
    "    keras.layers.Dense(128, activation='tanh'),\n",
    "    keras.layers.Dense(1, activation='sigmoid')\n",
    "]) \n",
    "\n",
    "\n",
    "kerasModel.compile( loss='binary_crossentropy', metrics=['accuracy'], )\n",
    "\n",
    "\n",
    "# if regression ==> loss= 'mean_square_error', metrics=['mean_square_error']\n",
    "# if Binary classification ==> loss='binary_crossentropy', metrics=['accuracy']\n",
    "# if multi classification ==> loss='catgorical_crossentropy', metrics=['accuracy']"
   ]
  },
  {
   "cell_type": "code",
   "execution_count": 10,
   "id": "e2696e95",
   "metadata": {
    "execution": {
     "iopub.execute_input": "2024-06-21T16:40:55.177445Z",
     "iopub.status.busy": "2024-06-21T16:40:55.176755Z",
     "iopub.status.idle": "2024-06-21T16:41:05.606884Z",
     "shell.execute_reply": "2024-06-21T16:41:05.605405Z"
    },
    "papermill": {
     "duration": 10.442743,
     "end_time": "2024-06-21T16:41:05.609921",
     "exception": false,
     "start_time": "2024-06-21T16:40:55.167178",
     "status": "completed"
    },
    "tags": []
   },
   "outputs": [
    {
     "name": "stdout",
     "output_type": "stream",
     "text": [
      "Epoch 1/100\n",
      "\u001b[1m125/125\u001b[0m \u001b[32m━━━━━━━━━━━━━━━━━━━━\u001b[0m\u001b[37m\u001b[0m \u001b[1m1s\u001b[0m 4ms/step - accuracy: 0.7199 - loss: 0.5897 - val_accuracy: 0.8362 - val_loss: 0.3865\n",
      "Epoch 2/100\n",
      "\u001b[1m125/125\u001b[0m \u001b[32m━━━━━━━━━━━━━━━━━━━━\u001b[0m\u001b[37m\u001b[0m \u001b[1m0s\u001b[0m 2ms/step - accuracy: 0.8768 - loss: 0.3288 - val_accuracy: 0.8851 - val_loss: 0.2853\n",
      "Epoch 3/100\n",
      "\u001b[1m125/125\u001b[0m \u001b[32m━━━━━━━━━━━━━━━━━━━━\u001b[0m\u001b[37m\u001b[0m \u001b[1m0s\u001b[0m 2ms/step - accuracy: 0.9019 - loss: 0.2320 - val_accuracy: 0.9191 - val_loss: 0.2010\n",
      "Epoch 4/100\n",
      "\u001b[1m125/125\u001b[0m \u001b[32m━━━━━━━━━━━━━━━━━━━━\u001b[0m\u001b[37m\u001b[0m \u001b[1m0s\u001b[0m 2ms/step - accuracy: 0.9423 - loss: 0.1573 - val_accuracy: 0.9441 - val_loss: 0.1594\n",
      "Epoch 5/100\n",
      "\u001b[1m125/125\u001b[0m \u001b[32m━━━━━━━━━━━━━━━━━━━━\u001b[0m\u001b[37m\u001b[0m \u001b[1m0s\u001b[0m 2ms/step - accuracy: 0.9522 - loss: 0.1338 - val_accuracy: 0.9491 - val_loss: 0.1338\n",
      "Epoch 6/100\n",
      "\u001b[1m125/125\u001b[0m \u001b[32m━━━━━━━━━━━━━━━━━━━━\u001b[0m\u001b[37m\u001b[0m \u001b[1m0s\u001b[0m 2ms/step - accuracy: 0.9506 - loss: 0.1141 - val_accuracy: 0.9500 - val_loss: 0.1194\n",
      "Epoch 7/100\n",
      "\u001b[1m125/125\u001b[0m \u001b[32m━━━━━━━━━━━━━━━━━━━━\u001b[0m\u001b[37m\u001b[0m \u001b[1m0s\u001b[0m 2ms/step - accuracy: 0.9477 - loss: 0.1108 - val_accuracy: 0.9510 - val_loss: 0.1177\n",
      "Epoch 8/100\n",
      "\u001b[1m125/125\u001b[0m \u001b[32m━━━━━━━━━━━━━━━━━━━━\u001b[0m\u001b[37m\u001b[0m \u001b[1m0s\u001b[0m 2ms/step - accuracy: 0.9504 - loss: 0.1030 - val_accuracy: 0.9500 - val_loss: 0.1286\n",
      "Epoch 9/100\n",
      "\u001b[1m125/125\u001b[0m \u001b[32m━━━━━━━━━━━━━━━━━━━━\u001b[0m\u001b[37m\u001b[0m \u001b[1m0s\u001b[0m 2ms/step - accuracy: 0.9527 - loss: 0.1019 - val_accuracy: 0.9491 - val_loss: 0.1138\n",
      "Epoch 10/100\n",
      "\u001b[1m125/125\u001b[0m \u001b[32m━━━━━━━━━━━━━━━━━━━━\u001b[0m\u001b[37m\u001b[0m \u001b[1m0s\u001b[0m 2ms/step - accuracy: 0.9514 - loss: 0.0969 - val_accuracy: 0.9491 - val_loss: 0.1114\n",
      "Epoch 11/100\n",
      "\u001b[1m125/125\u001b[0m \u001b[32m━━━━━━━━━━━━━━━━━━━━\u001b[0m\u001b[37m\u001b[0m \u001b[1m0s\u001b[0m 2ms/step - accuracy: 0.9555 - loss: 0.0864 - val_accuracy: 0.9510 - val_loss: 0.1119\n",
      "Epoch 12/100\n",
      "\u001b[1m125/125\u001b[0m \u001b[32m━━━━━━━━━━━━━━━━━━━━\u001b[0m\u001b[37m\u001b[0m \u001b[1m0s\u001b[0m 2ms/step - accuracy: 0.9513 - loss: 0.0963 - val_accuracy: 0.9520 - val_loss: 0.1116\n",
      "Epoch 13/100\n",
      "\u001b[1m125/125\u001b[0m \u001b[32m━━━━━━━━━━━━━━━━━━━━\u001b[0m\u001b[37m\u001b[0m \u001b[1m0s\u001b[0m 2ms/step - accuracy: 0.9584 - loss: 0.0913 - val_accuracy: 0.9500 - val_loss: 0.1128\n",
      "Epoch 14/100\n",
      "\u001b[1m125/125\u001b[0m \u001b[32m━━━━━━━━━━━━━━━━━━━━\u001b[0m\u001b[37m\u001b[0m \u001b[1m0s\u001b[0m 2ms/step - accuracy: 0.9556 - loss: 0.0922 - val_accuracy: 0.9510 - val_loss: 0.1118\n",
      "Epoch 15/100\n",
      "\u001b[1m125/125\u001b[0m \u001b[32m━━━━━━━━━━━━━━━━━━━━\u001b[0m\u001b[37m\u001b[0m \u001b[1m0s\u001b[0m 2ms/step - accuracy: 0.9582 - loss: 0.0960 - val_accuracy: 0.9510 - val_loss: 0.1109\n",
      "Epoch 16/100\n",
      "\u001b[1m125/125\u001b[0m \u001b[32m━━━━━━━━━━━━━━━━━━━━\u001b[0m\u001b[37m\u001b[0m \u001b[1m0s\u001b[0m 2ms/step - accuracy: 0.9511 - loss: 0.0966 - val_accuracy: 0.9510 - val_loss: 0.1187\n",
      "Epoch 17/100\n",
      "\u001b[1m125/125\u001b[0m \u001b[32m━━━━━━━━━━━━━━━━━━━━\u001b[0m\u001b[37m\u001b[0m \u001b[1m0s\u001b[0m 2ms/step - accuracy: 0.9519 - loss: 0.1059 - val_accuracy: 0.9530 - val_loss: 0.1108\n",
      "Epoch 18/100\n",
      "\u001b[1m125/125\u001b[0m \u001b[32m━━━━━━━━━━━━━━━━━━━━\u001b[0m\u001b[37m\u001b[0m \u001b[1m0s\u001b[0m 2ms/step - accuracy: 0.9538 - loss: 0.0833 - val_accuracy: 0.9510 - val_loss: 0.1172\n",
      "Epoch 19/100\n",
      "\u001b[1m125/125\u001b[0m \u001b[32m━━━━━━━━━━━━━━━━━━━━\u001b[0m\u001b[37m\u001b[0m \u001b[1m0s\u001b[0m 2ms/step - accuracy: 0.9534 - loss: 0.1023 - val_accuracy: 0.9520 - val_loss: 0.1149\n",
      "Epoch 20/100\n",
      "\u001b[1m125/125\u001b[0m \u001b[32m━━━━━━━━━━━━━━━━━━━━\u001b[0m\u001b[37m\u001b[0m \u001b[1m0s\u001b[0m 2ms/step - accuracy: 0.9584 - loss: 0.0888 - val_accuracy: 0.9530 - val_loss: 0.1102\n",
      "Epoch 21/100\n",
      "\u001b[1m125/125\u001b[0m \u001b[32m━━━━━━━━━━━━━━━━━━━━\u001b[0m\u001b[37m\u001b[0m \u001b[1m0s\u001b[0m 2ms/step - accuracy: 0.9530 - loss: 0.0930 - val_accuracy: 0.9540 - val_loss: 0.1106\n",
      "Epoch 22/100\n",
      "\u001b[1m125/125\u001b[0m \u001b[32m━━━━━━━━━━━━━━━━━━━━\u001b[0m\u001b[37m\u001b[0m \u001b[1m0s\u001b[0m 2ms/step - accuracy: 0.9515 - loss: 0.0985 - val_accuracy: 0.9500 - val_loss: 0.1122\n",
      "Epoch 23/100\n",
      "\u001b[1m125/125\u001b[0m \u001b[32m━━━━━━━━━━━━━━━━━━━━\u001b[0m\u001b[37m\u001b[0m \u001b[1m0s\u001b[0m 2ms/step - accuracy: 0.9540 - loss: 0.0913 - val_accuracy: 0.9520 - val_loss: 0.1112\n",
      "Epoch 24/100\n",
      "\u001b[1m125/125\u001b[0m \u001b[32m━━━━━━━━━━━━━━━━━━━━\u001b[0m\u001b[37m\u001b[0m \u001b[1m0s\u001b[0m 2ms/step - accuracy: 0.9600 - loss: 0.0901 - val_accuracy: 0.9540 - val_loss: 0.1263\n",
      "Epoch 25/100\n",
      "\u001b[1m125/125\u001b[0m \u001b[32m━━━━━━━━━━━━━━━━━━━━\u001b[0m\u001b[37m\u001b[0m \u001b[1m0s\u001b[0m 2ms/step - accuracy: 0.9601 - loss: 0.0918 - val_accuracy: 0.9520 - val_loss: 0.1097\n",
      "Epoch 26/100\n",
      "\u001b[1m125/125\u001b[0m \u001b[32m━━━━━━━━━━━━━━━━━━━━\u001b[0m\u001b[37m\u001b[0m \u001b[1m0s\u001b[0m 2ms/step - accuracy: 0.9545 - loss: 0.0985 - val_accuracy: 0.9540 - val_loss: 0.1210\n",
      "Epoch 27/100\n",
      "\u001b[1m125/125\u001b[0m \u001b[32m━━━━━━━━━━━━━━━━━━━━\u001b[0m\u001b[37m\u001b[0m \u001b[1m0s\u001b[0m 2ms/step - accuracy: 0.9573 - loss: 0.0864 - val_accuracy: 0.9520 - val_loss: 0.1102\n",
      "Epoch 28/100\n",
      "\u001b[1m125/125\u001b[0m \u001b[32m━━━━━━━━━━━━━━━━━━━━\u001b[0m\u001b[37m\u001b[0m \u001b[1m0s\u001b[0m 2ms/step - accuracy: 0.9562 - loss: 0.0889 - val_accuracy: 0.9530 - val_loss: 0.1156\n",
      "Epoch 29/100\n",
      "\u001b[1m125/125\u001b[0m \u001b[32m━━━━━━━━━━━━━━━━━━━━\u001b[0m\u001b[37m\u001b[0m \u001b[1m0s\u001b[0m 2ms/step - accuracy: 0.9617 - loss: 0.0843 - val_accuracy: 0.9520 - val_loss: 0.1105\n",
      "Epoch 30/100\n",
      "\u001b[1m125/125\u001b[0m \u001b[32m━━━━━━━━━━━━━━━━━━━━\u001b[0m\u001b[37m\u001b[0m \u001b[1m0s\u001b[0m 2ms/step - accuracy: 0.9569 - loss: 0.0986 - val_accuracy: 0.9500 - val_loss: 0.1117\n",
      "Epoch 31/100\n",
      "\u001b[1m125/125\u001b[0m \u001b[32m━━━━━━━━━━━━━━━━━━━━\u001b[0m\u001b[37m\u001b[0m \u001b[1m0s\u001b[0m 2ms/step - accuracy: 0.9579 - loss: 0.0849 - val_accuracy: 0.9520 - val_loss: 0.1090\n"
     ]
    }
   ],
   "source": [
    "history = kerasModel.fit(x_train, y_train,\n",
    "               validation_data=(x_test, y_test),\n",
    "               epochs=100, # in simple way this mean how many time it should read data\n",
    "               batch_size=32 # it use to divide data into groups so we can say that number 32 refer to how much every group contain\n",
    "               , verbose=1, # display detailed result\n",
    "               callbacks=[tf.keras.callbacks.EarlyStopping(\n",
    "                   patience=10, #  a technique used to prevent overfitting and improve the model's performance on new \n",
    "                   monitor= 'val_accuracy', #if Regression monitor='val_loss'\n",
    "                   restore_best_weights=True\n",
    "               )])"
   ]
  },
  {
   "cell_type": "code",
   "execution_count": 11,
   "id": "31360d88",
   "metadata": {
    "execution": {
     "iopub.execute_input": "2024-06-21T16:41:05.667177Z",
     "iopub.status.busy": "2024-06-21T16:41:05.666764Z",
     "iopub.status.idle": "2024-06-21T16:41:05.890632Z",
     "shell.execute_reply": "2024-06-21T16:41:05.889369Z"
    },
    "papermill": {
     "duration": 0.255868,
     "end_time": "2024-06-21T16:41:05.893646",
     "exception": false,
     "start_time": "2024-06-21T16:41:05.637778",
     "status": "completed"
    },
    "tags": []
   },
   "outputs": [
    {
     "name": "stdout",
     "output_type": "stream",
     "text": [
      "\u001b[1m32/32\u001b[0m \u001b[32m━━━━━━━━━━━━━━━━━━━━\u001b[0m\u001b[37m\u001b[0m \u001b[1m0s\u001b[0m 2ms/step\n"
     ]
    }
   ],
   "source": [
    "y_predict = kerasModel.predict(x_test)"
   ]
  },
  {
   "cell_type": "code",
   "execution_count": 12,
   "id": "a89e7fc3",
   "metadata": {
    "execution": {
     "iopub.execute_input": "2024-06-21T16:41:05.950365Z",
     "iopub.status.busy": "2024-06-21T16:41:05.949954Z",
     "iopub.status.idle": "2024-06-21T16:41:06.092231Z",
     "shell.execute_reply": "2024-06-21T16:41:06.090821Z"
    },
    "papermill": {
     "duration": 0.173321,
     "end_time": "2024-06-21T16:41:06.095099",
     "exception": false,
     "start_time": "2024-06-21T16:41:05.921778",
     "status": "completed"
    },
    "tags": []
   },
   "outputs": [
    {
     "name": "stdout",
     "output_type": "stream",
     "text": [
      "\u001b[1m32/32\u001b[0m \u001b[32m━━━━━━━━━━━━━━━━━━━━\u001b[0m\u001b[37m\u001b[0m \u001b[1m0s\u001b[0m 1ms/step - accuracy: 0.9518 - loss: 0.1201 \n",
      "ModelLoss ==> 0.11057528853416443,\n",
      " ModelAccuracy ==> 0.9540459513664246\n"
     ]
    }
   ],
   "source": [
    "ModelLoss, ModelAccuracy = kerasModel.evaluate(x_test, y_test)\n",
    "\n",
    "print(f'ModelLoss ==> {ModelLoss},\\n ModelAccuracy ==> {ModelAccuracy}')"
   ]
  },
  {
   "cell_type": "code",
   "execution_count": 13,
   "id": "98ca0cb4",
   "metadata": {
    "execution": {
     "iopub.execute_input": "2024-06-21T16:41:06.151677Z",
     "iopub.status.busy": "2024-06-21T16:41:06.151272Z",
     "iopub.status.idle": "2024-06-21T16:41:06.588861Z",
     "shell.execute_reply": "2024-06-21T16:41:06.587640Z"
    },
    "papermill": {
     "duration": 0.468433,
     "end_time": "2024-06-21T16:41:06.591515",
     "exception": false,
     "start_time": "2024-06-21T16:41:06.123082",
     "status": "completed"
    },
    "tags": []
   },
   "outputs": [
    {
     "data": {
      "text/plain": [
       "<matplotlib.legend.Legend at 0x788ee4492d70>"
      ]
     },
     "execution_count": 13,
     "metadata": {},
     "output_type": "execute_result"
    },
    {
     "data": {
      "image/png": "[encoded data removed]",
      "text/plain": [
       "<Figure size 640x480 with 1 Axes>"
      ]
     },
     "metadata": {},
     "output_type": "display_data"
    }
   ],
   "source": [
    "plt.plot(history.history['accuracy'])\n",
    "plt.plot(history.history['val_accuracy'])\n",
    "plt.title('Model Accuracy')\n",
    "plt.xlabel('Epoch')\n",
    "plt.ylabel('accuracy')\n",
    "plt.legend(['Train', 'Test'], loc='upper right')"
   ]
  },
  {
   "cell_type": "code",
   "execution_count": 14,
   "id": "d123b50c",
   "metadata": {
    "execution": {
     "iopub.execute_input": "2024-06-21T16:41:06.651404Z",
     "iopub.status.busy": "2024-06-21T16:41:06.650997Z",
     "iopub.status.idle": "2024-06-21T16:41:06.664020Z",
     "shell.execute_reply": "2024-06-21T16:41:06.662671Z"
    },
    "papermill": {
     "duration": 0.045748,
     "end_time": "2024-06-21T16:41:06.666889",
     "exception": false,
     "start_time": "2024-06-21T16:41:06.621141",
     "status": "completed"
    },
    "tags": []
   },
   "outputs": [],
   "source": [
    "# Round predicted values to be 0 or 1\n",
    "\n",
    "y_pred = [np.round(i[0]) for i in y_predict]"
   ]
  },
  {
   "cell_type": "code",
   "execution_count": 15,
   "id": "98aec39a",
   "metadata": {
    "execution": {
     "iopub.execute_input": "2024-06-21T16:41:06.726207Z",
     "iopub.status.busy": "2024-06-21T16:41:06.725806Z",
     "iopub.status.idle": "2024-06-21T16:41:06.733454Z",
     "shell.execute_reply": "2024-06-21T16:41:06.732261Z"
    },
    "papermill": {
     "duration": 0.040087,
     "end_time": "2024-06-21T16:41:06.736160",
     "exception": false,
     "start_time": "2024-06-21T16:41:06.696073",
     "status": "completed"
    },
    "tags": []
   },
   "outputs": [
    {
     "data": {
      "text/plain": [
       "[1.0, 0.0, 0.0, 1.0, 1.0]"
      ]
     },
     "execution_count": 15,
     "metadata": {},
     "output_type": "execute_result"
    }
   ],
   "source": [
    "# Dispaly first 5 rows\n",
    "\n",
    "y_pred[:5]"
   ]
  },
  {
   "cell_type": "code",
   "execution_count": 16,
   "id": "3a2fa92b",
   "metadata": {
    "execution": {
     "iopub.execute_input": "2024-06-21T16:41:06.794615Z",
     "iopub.status.busy": "2024-06-21T16:41:06.794124Z",
     "iopub.status.idle": "2024-06-21T16:41:06.803781Z",
     "shell.execute_reply": "2024-06-21T16:41:06.802742Z"
    },
    "papermill": {
     "duration": 0.042438,
     "end_time": "2024-06-21T16:41:06.806487",
     "exception": false,
     "start_time": "2024-06-21T16:41:06.764049",
     "status": "completed"
    },
    "tags": []
   },
   "outputs": [],
   "source": [
    "# use Confusion Matrix to chck accuracy of model\n",
    "\n",
    "cm = confusion_matrix(y_test, y_pred)"
   ]
  },
  {
   "cell_type": "code",
   "execution_count": 17,
   "id": "ce148132",
   "metadata": {
    "execution": {
     "iopub.execute_input": "2024-06-21T16:41:06.865133Z",
     "iopub.status.busy": "2024-06-21T16:41:06.864669Z",
     "iopub.status.idle": "2024-06-21T16:41:06.872198Z",
     "shell.execute_reply": "2024-06-21T16:41:06.870937Z"
    },
    "papermill": {
     "duration": 0.040028,
     "end_time": "2024-06-21T16:41:06.875044",
     "exception": false,
     "start_time": "2024-06-21T16:41:06.835016",
     "status": "completed"
    },
    "tags": []
   },
   "outputs": [
    {
     "data": {
      "text/plain": [
       "array([[472,  30],\n",
       "       [ 16, 483]])"
      ]
     },
     "execution_count": 17,
     "metadata": {},
     "output_type": "execute_result"
    }
   ],
   "source": [
    "cm"
   ]
  },
  {
   "cell_type": "code",
   "execution_count": 18,
   "id": "abd9555a",
   "metadata": {
    "execution": {
     "iopub.execute_input": "2024-06-21T16:41:06.934467Z",
     "iopub.status.busy": "2024-06-21T16:41:06.934088Z",
     "iopub.status.idle": "2024-06-21T16:41:07.201115Z",
     "shell.execute_reply": "2024-06-21T16:41:07.199821Z"
    },
    "papermill": {
     "duration": 0.300819,
     "end_time": "2024-06-21T16:41:07.204196",
     "exception": false,
     "start_time": "2024-06-21T16:41:06.903377",
     "status": "completed"
    },
    "tags": []
   },
   "outputs": [
    {
     "data": {
      "image/png": "[encoded data removed]",
      "text/plain": [
       "<Figure size 640x480 with 2 Axes>"
      ]
     },
     "metadata": {},
     "output_type": "display_data"
    }
   ],
   "source": [
    "sns.heatmap(cm, center=True, edgecolor='blue')\n",
    "plt.show()"
   ]
  },
  {
   "cell_type": "code",
   "execution_count": null,
   "id": "1b6143d9",
   "metadata": {
    "papermill": {
     "duration": 0.027958,
     "end_time": "2024-06-21T16:41:07.260491",
     "exception": false,
     "start_time": "2024-06-21T16:41:07.232533",
     "status": "completed"
    },
    "tags": []
   },
   "outputs": [],
   "source": []
  }
 ],
 "metadata": {
  "kaggle": {
   "accelerator": "none",
   "dataSources": [
    {
     "datasetId": 5256199,
     "sourceId": 8751014,
     "sourceType": "datasetVersion"
    }
   ],
   "dockerImageVersionId": 30732,
   "isGpuEnabled": false,
   "isInternetEnabled": true,
   "language": "python",
   "sourceType": "notebook"
  },
  "kernelspec": {
   "display_name": "Python 3",
   "language": "python",
   "name": "python3"
  },
  "language_info": {
   "codemirror_mode": {
    "name": "ipython",
    "version": 3
   },
   "file_extension": ".py",
   "mimetype": "text/x-python",
   "name": "python",
   "nbconvert_exporter": "python",
   "pygments_lexer": "ipython3",
   "version": "3.10.13"
  },
  "papermill": {
   "default_parameters": {},
   "duration": 36.164852,
   "end_time": "2024-06-21T16:41:09.019041",
   "environment_variables": {},
   "exception": null,
   "input_path": "__notebook__.ipynb",
   "output_path": "__notebook__.ipynb",
   "parameters": {},
   "start_time": "2024-06-21T16:40:32.854189",
   "version": "2.5.0"
  }
 },
 "nbformat": 4,
 "nbformat_minor": 5
}
